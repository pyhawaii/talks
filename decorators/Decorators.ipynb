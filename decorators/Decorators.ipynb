{
 "cells": [
  {
   "cell_type": "markdown",
   "metadata": {},
   "source": [
    "# Decorators\n",
    "\n",
    "Decorators are a feature that many dynamic languages use to enable you to do more with the functions you write. This lesson is a tutorial to get you started with writing and using decorators."
   ]
  },
  {
   "cell_type": "markdown",
   "metadata": {},
   "source": [
    "## Expressions and Symbols\n",
    "\n",
    "If we examine this line of code:\n",
    "\n",
    "    three = 3\n",
    "\n",
    "`3` is an expression (a very simple one), and `three` is a symbol. The result of that line of code is the symbol `three` is given the result of the expression `3`, which is happens to be the integer value 3.\n",
    "\n",
    "Similarly we can examine these lines of code:"
   ]
  },
  {
   "cell_type": "code",
   "execution_count": 1,
   "metadata": {},
   "outputs": [],
   "source": [
    "def three():\n",
    "    return 3"
   ]
  },
  {
   "cell_type": "markdown",
   "metadata": {},
   "source": [
    "Everything after the `:` character until lines are no longer indented is a *code block*; in this case the code block is the single line of code `return 3`. `three` is a symbol (just like it was above, and `def <symbol>(<arguments>):` is the syntax for defining a function. The result of executing that whole thing is that a function object is created and it is then assigned to the symbol `three`."
   ]
  },
  {
   "cell_type": "markdown",
   "metadata": {},
   "source": [
    "## Function Objects\n",
    "\n",
    "So what is a function object? In Python, [everything is an object](http://www.diveintopython.net/getting_to_know_python/everything_is_an_object.html). A **function object** is a kind of object that *does* something; specifically a function object executes a series of statements and returns a value (which is, of course, another object)."
   ]
  },
  {
   "cell_type": "code",
   "execution_count": 2,
   "metadata": {},
   "outputs": [
    {
     "data": {
      "text/plain": [
       "function"
      ]
     },
     "execution_count": 2,
     "metadata": {},
     "output_type": "execute_result"
    }
   ],
   "source": [
    "type(three)"
   ]
  },
  {
   "cell_type": "code",
   "execution_count": 3,
   "metadata": {},
   "outputs": [
    {
     "data": {
      "text/plain": [
       "['__annotations__',\n",
       " '__call__',\n",
       " '__class__',\n",
       " '__closure__',\n",
       " '__code__',\n",
       " '__defaults__',\n",
       " '__delattr__',\n",
       " '__dict__',\n",
       " '__dir__',\n",
       " '__doc__',\n",
       " '__eq__',\n",
       " '__format__',\n",
       " '__ge__',\n",
       " '__get__',\n",
       " '__getattribute__',\n",
       " '__globals__',\n",
       " '__gt__',\n",
       " '__hash__',\n",
       " '__init__',\n",
       " '__init_subclass__',\n",
       " '__kwdefaults__',\n",
       " '__le__',\n",
       " '__lt__',\n",
       " '__module__',\n",
       " '__name__',\n",
       " '__ne__',\n",
       " '__new__',\n",
       " '__qualname__',\n",
       " '__reduce__',\n",
       " '__reduce_ex__',\n",
       " '__repr__',\n",
       " '__setattr__',\n",
       " '__sizeof__',\n",
       " '__str__',\n",
       " '__subclasshook__']"
      ]
     },
     "execution_count": 3,
     "metadata": {},
     "output_type": "execute_result"
    }
   ],
   "source": [
    "dir(three)"
   ]
  },
  {
   "cell_type": "markdown",
   "metadata": {},
   "source": [
    "Because function objects are *just* another kind of object, they can be assigned to variables, passed as parameters to functions, introspected, etc. Function objects are also called **callables**.\n",
    "\n",
    "One thing you can do with objects is *extend* them. This is usually thought about with classes, where you define a class that extends another class to add an extra function, but any object can be extended. This is done using *decorators*."
   ]
  },
  {
   "cell_type": "markdown",
   "metadata": {},
   "source": [
    "## Decorators\n",
    "\n",
    "A **decorator** is basically a wrapper around a callable that extends or enhances that callable in some way. There are many reasons to decorate, but the two most common are probably:\n",
    "\n",
    "* registering a function with a system that consumes it in some way\n",
    "* enhancing a function by adding extra code before or after it executes"
   ]
  },
  {
   "cell_type": "markdown",
   "metadata": {},
   "source": [
    "### Functions That Return Functions\n",
    "\n",
    "Because a decorator is a wrapper around another function (so it's a function), you write it the same way you write any other function:"
   ]
  },
  {
   "cell_type": "code",
   "execution_count": 4,
   "metadata": {},
   "outputs": [],
   "source": [
    "def print_hi_first(func):\n",
    "    def inner():\n",
    "        print('hi')\n",
    "        return func()\n",
    "    return inner"
   ]
  },
  {
   "cell_type": "markdown",
   "metadata": {},
   "source": [
    "This function is returning a function that does something when called: first it prints \"hi\", then it runs the function that was passed to it. It can be used successfully with any function that takes no arguments (because it calls that function with no arguments).\n",
    "\n",
    "If we had a simple function like this:"
   ]
  },
  {
   "cell_type": "code",
   "execution_count": 5,
   "metadata": {},
   "outputs": [
    {
     "name": "stdout",
     "output_type": "stream",
     "text": [
      "three\n"
     ]
    }
   ],
   "source": [
    "def print_three():\n",
    "    print('three')\n",
    "\n",
    "print_three()"
   ]
  },
  {
   "cell_type": "markdown",
   "metadata": {},
   "source": [
    "... we could wrap it in our extra function like this:"
   ]
  },
  {
   "cell_type": "code",
   "execution_count": 6,
   "metadata": {},
   "outputs": [
    {
     "name": "stdout",
     "output_type": "stream",
     "text": [
      "hi\n",
      "three\n"
     ]
    }
   ],
   "source": [
    "wrapped_print_three = print_hi_first(print_three)\n",
    "wrapped_print_three()"
   ]
  },
  {
   "cell_type": "markdown",
   "metadata": {},
   "source": [
    "Calling the wrapped function does first what our decorator added, then it calls the inner function."
   ]
  },
  {
   "cell_type": "markdown",
   "metadata": {},
   "source": [
    "### Syntax\n",
    "\n",
    "To make this easier, we can wrap our function using the decorator syntax:"
   ]
  },
  {
   "cell_type": "code",
   "execution_count": 7,
   "metadata": {},
   "outputs": [
    {
     "name": "stdout",
     "output_type": "stream",
     "text": [
      "hi\n",
      "three\n"
     ]
    }
   ],
   "source": [
    "@print_hi_first\n",
    "def print_three():\n",
    "    print('three')\n",
    "\n",
    "print_three()"
   ]
  },
  {
   "cell_type": "markdown",
   "metadata": {},
   "source": [
    "Note that now the returned function is assigned to the name of our function... `print_three` is the new function that wraps `print_hi_first` around `print_three`. This is handy, because now any method using our `print_three` function simply gets the enhanced functionality without having to know that the function is decorated in any way or calling it in any special way."
   ]
  },
  {
   "cell_type": "markdown",
   "metadata": {},
   "source": [
    "### Function Parameters\n",
    "\n",
    "Sometimes you need to decorate functions that take any arbitrary arguments, but you don't know what the argument list will look like. Python has syntax for this as well, using the `*args, **kwargs` notation at the end of the function parameter list:"
   ]
  },
  {
   "cell_type": "code",
   "execution_count": 8,
   "metadata": {},
   "outputs": [],
   "source": [
    "def show_my_args(x, *args, **kwargs):\n",
    "    print(args)\n",
    "    print(kwargs)"
   ]
  },
  {
   "cell_type": "markdown",
   "metadata": {},
   "source": [
    "`args` is a tuple containing any argument passed as an expression that wasn't already listed in the parameter argument list for the function. If we execute `show_my_args(1, 2, 3*3)` we will get a tuple of two integers: `(2, 9)` (note that the `1` was assigned to the first parameter, `x`)."
   ]
  },
  {
   "cell_type": "code",
   "execution_count": 9,
   "metadata": {},
   "outputs": [
    {
     "name": "stdout",
     "output_type": "stream",
     "text": [
      "(2, 9)\n",
      "{}\n"
     ]
    }
   ],
   "source": [
    "show_my_args(1, 2, 3*3)"
   ]
  },
  {
   "cell_type": "markdown",
   "metadata": {},
   "source": [
    "`kwargs` is a dictionary of key:value pairs containing any named argument passed that wasn't already listed in the parameter argument list for the function. If we execute `show_my_args(x=1, y=2, z=3)` we will get a dictionary of two key:value pairs: `{'y': 2, 'z': 3}` (note that `x` was assigned to the parameter called `x`)."
   ]
  },
  {
   "cell_type": "code",
   "execution_count": 10,
   "metadata": {},
   "outputs": [
    {
     "name": "stdout",
     "output_type": "stream",
     "text": [
      "()\n",
      "{'y': 2, 'z': 3}\n"
     ]
    }
   ],
   "source": [
    "show_my_args(x=1, y=2, z=3)"
   ]
  },
  {
   "cell_type": "markdown",
   "metadata": {},
   "source": [
    "This is how a function like `print()` can take an arbitrary number of arguments without knowing in advance what they will be, it just iterates over `args` and consumes and displays them one at a time."
   ]
  },
  {
   "cell_type": "markdown",
   "metadata": {},
   "source": [
    "## Putting It All Together\n",
    "\n",
    "Let's say we want to write a decorator that prints all the arguments passed to a function before executing that function. We can do that like this:"
   ]
  },
  {
   "cell_type": "code",
   "execution_count": 11,
   "metadata": {},
   "outputs": [],
   "source": [
    "def print_args_and_result(func):\n",
    "    def inner(*args, **kwargs):\n",
    "        print('args:', args)\n",
    "        print('kwargs:', kwargs)\n",
    "        result = func(*args, **kwargs)\n",
    "        print('result:', result)\n",
    "        return result\n",
    "    return inner"
   ]
  },
  {
   "cell_type": "markdown",
   "metadata": {},
   "source": [
    "Now if we create two functions and use our decorator on them:"
   ]
  },
  {
   "cell_type": "code",
   "execution_count": 12,
   "metadata": {},
   "outputs": [],
   "source": [
    "@print_args_and_result\n",
    "def linear_equation(m, x, b):\n",
    "    return m + x + b\n",
    "\n",
    "@print_args_and_result\n",
    "def sum(*args):\n",
    "    total = 0\n",
    "    for x in args:\n",
    "        total += x\n",
    "    return total"
   ]
  },
  {
   "cell_type": "markdown",
   "metadata": {},
   "source": [
    "... we can see the values passed in and the return value of those methods every time they are called:"
   ]
  },
  {
   "cell_type": "code",
   "execution_count": 13,
   "metadata": {},
   "outputs": [
    {
     "name": "stdout",
     "output_type": "stream",
     "text": [
      "args: (3, 5, 7)\n",
      "kwargs: {}\n",
      "result: 15\n"
     ]
    },
    {
     "data": {
      "text/plain": [
       "15"
      ]
     },
     "execution_count": 13,
     "metadata": {},
     "output_type": "execute_result"
    }
   ],
   "source": [
    "linear_equation(3, 5, 7)"
   ]
  },
  {
   "cell_type": "code",
   "execution_count": 14,
   "metadata": {},
   "outputs": [
    {
     "name": "stdout",
     "output_type": "stream",
     "text": [
      "args: (1, 2, 3)\n",
      "kwargs: {}\n",
      "result: 6\n"
     ]
    },
    {
     "data": {
      "text/plain": [
       "6"
      ]
     },
     "execution_count": 14,
     "metadata": {},
     "output_type": "execute_result"
    }
   ],
   "source": [
    "sum(1, 2, 3)"
   ]
  },
  {
   "cell_type": "markdown",
   "metadata": {},
   "source": [
    "### Python Helpers for Decorators\n",
    "\n",
    "Looking again at our `print_three` function above:\n",
    "\n",
    "    def print_three():\n",
    "        print('three')\n",
    "\n",
    "... let's modify it to have a docstring:"
   ]
  },
  {
   "cell_type": "code",
   "execution_count": 15,
   "metadata": {},
   "outputs": [],
   "source": [
    "def print_three():\n",
    "    '''return the word \"three\"'''\n",
    "    print('three')"
   ]
  },
  {
   "cell_type": "markdown",
   "metadata": {},
   "source": [
    "Note that there a re a lot of things we can introspect about this function:"
   ]
  },
  {
   "cell_type": "code",
   "execution_count": 16,
   "metadata": {},
   "outputs": [
    {
     "data": {
      "text/plain": [
       "'return the word \"three\"'"
      ]
     },
     "execution_count": 16,
     "metadata": {},
     "output_type": "execute_result"
    }
   ],
   "source": [
    "print_three.__doc__"
   ]
  },
  {
   "cell_type": "code",
   "execution_count": 17,
   "metadata": {},
   "outputs": [
    {
     "data": {
      "text/plain": [
       "'__main__'"
      ]
     },
     "execution_count": 17,
     "metadata": {},
     "output_type": "execute_result"
    }
   ],
   "source": [
    "print_three.__module__"
   ]
  },
  {
   "cell_type": "markdown",
   "metadata": {},
   "source": [
    "... and a whole lot more. But if we wrap `print_three`:"
   ]
  },
  {
   "cell_type": "code",
   "execution_count": 18,
   "metadata": {},
   "outputs": [],
   "source": [
    "def print_hi_first(func):\n",
    "    def inner():\n",
    "        print('hi')\n",
    "        return func()\n",
    "    return inner\n",
    "\n",
    "@print_hi_first\n",
    "def print_three():\n",
    "    '''return the word \"three\"'''\n",
    "    print('three')\n",
    "\n",
    "print_three.__doc__"
   ]
  },
  {
   "cell_type": "markdown",
   "metadata": {},
   "source": [
    "... now were' going to lose all that information, because the `print_three` symbol is no longer assigned to the inner function.\n",
    "\n",
    "Luckily, the `functools` module has a solution for us: the `wraps` decorator:"
   ]
  },
  {
   "cell_type": "code",
   "execution_count": 19,
   "metadata": {},
   "outputs": [
    {
     "data": {
      "text/plain": [
       "'return the word \"three\"'"
      ]
     },
     "execution_count": 19,
     "metadata": {},
     "output_type": "execute_result"
    }
   ],
   "source": [
    "from functools import wraps\n",
    "\n",
    "def print_hi_first(func):\n",
    "    @wraps(func)\n",
    "    def inner():\n",
    "        print('hi')\n",
    "        return func()\n",
    "    return inner\n",
    "\n",
    "@print_hi_first\n",
    "def print_three():\n",
    "    '''return the word \"three\"'''\n",
    "    print('three')\n",
    "\n",
    "print_three.__doc__"
   ]
  },
  {
   "cell_type": "markdown",
   "metadata": {},
   "source": [
    "## Learning More\n",
    "\n",
    "I mentioned a couple reasons to use decorators above, but there are many more. Here are some ideas for a decorator to write to practice:\n",
    "\n",
    "* time how long a method takes to run\n",
    "* count how many times a method is run; use it to see how many times some recursive functions (like factorial, breadth-first search, and depth-first search) call themselves recursively\n",
    "* combine the first two to count how many times a function is called and accumulate the total time spent in a function for the duration of a program that calls that function many times\n",
    "* use a decorator to make sure one of the named parameters, if it exists, is of a particular type\n",
    "\n",
    "You should also read more about **closures** and Python's variable scoping rules, as there are  some things you should know about what you can and can't expect the behavior of certain kinds of variables to be inside a decorator."
   ]
  },
  {
   "cell_type": "markdown",
   "metadata": {},
   "source": [
    "## Reference\n",
    "\n",
    "* [Everything Is an Object](http://www.diveintopython.net/getting_to_know_python/everything_is_an_object.html)\n",
    "* [5 reasons you need to learn to write Python decorators](https://www.oreilly.com/ideas/5-reasons-you-need-to-learn-to-write-python-decorators)\n",
    "* [Primer on Python Decorators](https://realpython.com/primer-on-python-decorators/)\n",
    "* \"Function Decorators and Closures\", chapter 7 of [Fluent Python](http://shop.oreilly.com/product/0636920032519.do)"
   ]
  }
 ],
 "metadata": {
  "kernelspec": {
   "display_name": "Python 3",
   "language": "python",
   "name": "python3"
  },
  "language_info": {
   "codemirror_mode": {
    "name": "ipython",
    "version": 3
   },
   "file_extension": ".py",
   "mimetype": "text/x-python",
   "name": "python",
   "nbconvert_exporter": "python",
   "pygments_lexer": "ipython3",
   "version": "3.6.3"
  }
 },
 "nbformat": 4,
 "nbformat_minor": 2
}
